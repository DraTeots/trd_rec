{
 "cells": [
  {
   "cell_type": "markdown",
   "metadata": {
    "pycharm": {
     "name": "#%% md\n"
    }
   },
   "source": [
    "Run pip install if there is no uproot package:\n",
    "```bash\n",
    "pip install --upgrade uproot4 awkward1 particle boost-histogram matplotlib mplhep pandas numexpr autograd hist hist[plot] humanize\n",
    "```"
   ]
  },
  {
   "cell_type": "code",
   "execution_count": 1,
   "metadata": {},
   "outputs": [],
   "source": [
    "#!pip install --upgrade --user uproot4 awkward1 particle boost-histogram matplotlib mplhep pandas numexpr autograd hist hist[plot] humanize"
   ]
  },
  {
   "cell_type": "code",
   "execution_count": 2,
   "metadata": {
    "pycharm": {
     "name": "#%%\n"
    }
   },
   "outputs": [],
   "source": [
    "import uproot4\n",
    "from matplotlib import pyplot as p\n",
    "from hist import Hist\n",
    "import hist\n",
    "import awkward as ak\n",
    "import numpy as np\n",
    "import matplotlib.pyplot as plt\n",
    "from matplotlib.gridspec import GridSpec\n",
    "import matplotlib.image as mpimg\n",
    "\n",
    "# Pretty printing arrays\n",
    "from pprint import pprint"
   ]
  },
  {
   "cell_type": "code",
   "execution_count": 3,
   "metadata": {},
   "outputs": [],
   "source": [
    "\n",
    "\n",
    "file=uproot4.open(\"test.root\")\n",
    "\n",
    "# To see all object names in the file:\n",
    "#file.items()\n",
    "\n",
    "# only names: file.keys(), file.values()))\n",
    "\n",
    "# To see items in subdirectories\n",
    "# file.keys(recursive=True)\n",
    "\n",
    "# There are more functions related to file:\n",
    "# https://uproot.readthedocs.io/en/latest/uproot.reading.ReadOnlyFile.html\n",
    "\n",
    "# Root directories:\n",
    "# https://uproot.readthedocs.io/en/latest/uproot.reading.ReadOnlyDirectory.html\n",
    "\n",
    "# To read multiple files at once (aka TChain)\n",
    "# https://uproot.readthedocs.io/en/latest/basic.html#iterating-over-many-files\n"
   ]
  },
  {
   "cell_type": "code",
   "execution_count": 4,
   "metadata": {
    "pycharm": {
     "name": "#%%\n"
    }
   },
   "outputs": [
    {
     "name": "stdout",
     "output_type": "stream",
     "text": [
      "Number of entries: 1000\n",
      "['ForwardTRDHits',\n",
      " 'ForwardTRDHits/ForwardTRDHits.cellID',\n",
      " 'ForwardTRDHits/ForwardTRDHits.flag',\n",
      " 'ForwardTRDHits/ForwardTRDHits.g4ID',\n",
      " 'ForwardTRDHits/ForwardTRDHits.position.x',\n",
      " 'ForwardTRDHits/ForwardTRDHits.position.y',\n",
      " 'ForwardTRDHits/ForwardTRDHits.position.z',\n",
      " 'ForwardTRDHits/ForwardTRDHits.position.t',\n",
      " 'ForwardTRDHits/ForwardTRDHits.momentum.x',\n",
      " 'ForwardTRDHits/ForwardTRDHits.momentum.y',\n",
      " 'ForwardTRDHits/ForwardTRDHits.momentum.z',\n",
      " 'ForwardTRDHits/ForwardTRDHits.momentum.t',\n",
      " 'ForwardTRDHits/ForwardTRDHits.length',\n",
      " 'ForwardTRDHits/ForwardTRDHits.truth.trackID',\n",
      " 'ForwardTRDHits/ForwardTRDHits.truth.pdgID',\n",
      " 'ForwardTRDHits/ForwardTRDHits.truth.deposit',\n",
      " 'ForwardTRDHits/ForwardTRDHits.truth.time',\n",
      " 'ForwardTRDHits/ForwardTRDHits.truth.length',\n",
      " 'ForwardTRDHits/ForwardTRDHits.truth.x',\n",
      " 'ForwardTRDHits/ForwardTRDHits.truth.y',\n",
      " 'ForwardTRDHits/ForwardTRDHits.truth.z',\n",
      " 'ForwardTRDHits/ForwardTRDHits.energyDeposit']\n"
     ]
    }
   ],
   "source": [
    "# File has a data tree called 'events'\n",
    "# get events tree as a separate thing\n",
    "tree = file[\"events\"]\n",
    "\n",
    "# Print number of entries\n",
    "print(f\"Number of entries: {tree.num_entries}\")\n",
    "\n",
    "# Uncomment this to see all values:\n",
    "# tree.show()\n",
    "\n",
    "# More TBranch functions:\n",
    "#https://uproot.readthedocs.io/en/latest/uproot.behaviors.TBranch.TBranch.html\n",
    "\n",
    "# Get all branch names for ForwardTRDHits\n",
    "forward_trd_branches = [name for name in tree.keys(recursive=True) if \"ForwardTRDHits\" in name]\n",
    "pprint(forward_trd_branches)"
   ]
  },
  {
   "cell_type": "markdown",
   "metadata": {
    "pycharm": {
     "name": "#%% md\n"
    }
   },
   "source": [
    "```\n",
    "TODO Nilay: write description of ForwardTRDHits event data.\n",
    "\n",
    "Check (build histograms) for\n",
    "\n",
    "1. `ForwardTRDHits/ForwardTRDHits.energyDeposit` vs `ForwardTRDHits/ForwardTRDHits.truth.deposit` is there difference?\n",
    "2. `ForwardTRDHits/ForwardTRDHits.truth.[x,y,z,time]` vs `ForwardTRDHits/ForwardTRDHits.position.[x,y,z,t]`\n",
    "\n",
    "```"
   ]
  },
  {
   "cell_type": "code",
   "execution_count": 5,
   "metadata": {},
   "outputs": [
    {
     "name": "stdout",
     "output_type": "stream",
     "text": [
      "[[3.41e+03], [3.41e+03], [3.41e+03, ... [3.41e+03, 3.41e+03], [3.41e+03]]\n",
      "There are total: 1000 hits records\n"
     ]
    }
   ],
   "source": [
    "# To load WHOLE data from a branch as an array:\n",
    "hit_z = tree['ForwardTRDHits/ForwardTRDHits.position.z'].array()\n",
    "\n",
    "# hit_z is \"awkward array\"\n",
    "# https://awkward-array.org/what-is-awkward.html\n",
    "# library=np to return/convert array as a numpy library.\n",
    "\n",
    "print(hit_z)\n",
    "print(f\"There are total: {len(hit_z)} hits records\")\n",
    "\n",
    "\n",
    "# 261\n",
    "# [[...],[...], .... ]\n",
    "\n",
    "# for hits_in_event in hit_z:\n",
    "#    print(f\"Hits in the event: {len(hits_in_event)}\")\n"
   ]
  },
  {
   "cell_type": "code",
   "execution_count": 6,
   "outputs": [
    {
     "data": {
      "text/plain": "<AxesSubplot:ylabel='Frequency'>"
     },
     "execution_count": 6,
     "metadata": {},
     "output_type": "execute_result"
    },
    {
     "data": {
      "text/plain": "<Figure size 432x288 with 1 Axes>",
      "image/png": "[encoded data removed]"
     },
     "metadata": {
      "needs_background": "light"
     },
     "output_type": "display_data"
    }
   ],
   "source": [
    "# We can use another representation of what array() returns:\n",
    "pd_hit_z = tree['ForwardTRDHits/ForwardTRDHits.position.z'].array(library='pandas')\n",
    "pd_hit_z.plot.hist(bins=40)"
   ],
   "metadata": {
    "collapsed": false,
    "pycharm": {
     "name": "#%%\n"
    }
   }
  },
  {
   "cell_type": "code",
   "execution_count": 7,
   "outputs": [
    {
     "data": {
      "text/plain": "<Figure size 432x288 with 1 Axes>",
      "image/png": "[encoded data removed]"
     },
     "metadata": {
      "needs_background": "light"
     },
     "output_type": "display_data"
    }
   ],
   "source": [
    "flat_hits_z = ak.flatten(hit_z)\n",
    "num_bins = 40\n",
    "n, bins, patches = plt.hist(flat_hits_z, num_bins, facecolor='blue', alpha=0.5)\n",
    "plt.show()"
   ],
   "metadata": {
    "collapsed": false,
    "pycharm": {
     "name": "#%%\n"
    }
   }
  },
  {
   "cell_type": "code",
   "execution_count": 8,
   "metadata": {
    "pycharm": {
     "name": "#%%\n"
    }
   },
   "outputs": [],
   "source": [
    "# It is possible to convert multiple branches, apply formulas, aliases, etc.\n",
    "# arrays method is to be used for this\n",
    "\n",
    "# Instead of this:\n",
    "# hit_z = tree['hit_z'].array()\n",
    "# hit_y = tree['hit_y'].array()\n",
    "# hit_z = tree['hit_z'].array()\n",
    "\n",
    "# For numpy:\n",
    "hits = tree.arrays(filter_name=\"ForwardTRDHits/ForwardTRDHits.position.*\", library='np')\n",
    "\n",
    "\n",
    "# The resulting will be a dict like:\n",
    "# { 'par0': array([ 5.81875  ,  7.471875 ,  ...],\n",
    "#   'par1': array([ 5., 14.,  3., ... ],\n",
    "#   ...}\n",
    "\n",
    "hits[\"ForwardTRDHits.position.x\"]\n",
    "\n",
    "# If you need only arrays, .values() function may be used\n",
    "# Finally you can unpack it as values (I use only 3 of pars here using [0,1,2] mask)\n",
    "hits_x, hits_y, hits_z = tree.arrays(filter_name=\"ForwardTRDHits/ForwardTRDHits.position.[x,y,z]\", library='np').values()\n",
    "\n",
    "# Full info on this array methods\n",
    "# https://uproot.readthedocs.io/en/latest/basic.html#reading-multiple-tbranches-as-a-group-of-arrays\n",
    "# hits\n"
   ]
  },
  {
   "cell_type": "markdown",
   "metadata": {
    "pycharm": {
     "name": "#%% md\n"
    }
   },
   "source": [
    "## PLOTTING"
   ]
  },
  {
   "cell_type": "code",
   "execution_count": 9,
   "metadata": {
    "pycharm": {
     "name": "#%%\n"
    }
   },
   "outputs": [
    {
     "name": "stdout",
     "output_type": "stream",
     "text": [
      "Event 0 has hits [3.41e+03]\n",
      "Event 1 has hits [3.41e+03]\n",
      "Event 2 has hits [3.41e+03, 3.42e+03]\n",
      "Event 3 has hits [3.39e+03]\n",
      "Event 4 has hits [3.39e+03]\n"
     ]
    }
   ],
   "source": [
    "# Going \"event by event\" matter (don't use it!)\n",
    "for i in range(5):\n",
    "    event_hits_z = hit_z[i]\n",
    "    print(f\"Event {i} has hits {event_hits_z}\")"
   ]
  },
  {
   "cell_type": "code",
   "execution_count": 10,
   "metadata": {
    "pycharm": {
     "name": "#%%\n"
    }
   },
   "outputs": [
    {
     "data": {
      "text/plain": "[StairsArtists(stairs=<matplotlib.patches.StepPatch object at 0x7f9b0c4d02b0>, errorbar=<ErrorbarContainer object of 3 artists>, legend_artist=<ErrorbarContainer object of 3 artists>)]"
     },
     "execution_count": 10,
     "metadata": {},
     "output_type": "execute_result"
    },
    {
     "data": {
      "text/plain": "<Figure size 432x288 with 1 Axes>",
      "image/png": "[encoded data removed]"
     },
     "metadata": {
      "needs_background": "light"
     },
     "output_type": "display_data"
    }
   ],
   "source": [
    "# fill the axes\n",
    "h = Hist(\n",
    "    hist.axis.Regular(\n",
    "        50, 330, 350, name=\"Z\", label=\"z [cm]\", underflow=False, overflow=False\n",
    "    ),\n",
    ")\n",
    "\n",
    "flatten_array = ak.flatten(hit_z[hit_z > 3000]/10)\n",
    "h.fill(flatten_array)\n",
    "h.plot()\n",
    "\n",
    "\n",
    "# More on hist library\n",
    "# https://hist.readthedocs.io/en/latest/\n",
    "# https://github.com/scikit-hep/hist\n",
    "\n",
    "# The library is very new and there might be bugs, there are a couple of other\n",
    "# libraries that can work with histograms. Let me know\n",
    "\n"
   ]
  },
  {
   "cell_type": "code",
   "execution_count": 11,
   "outputs": [
    {
     "data": {
      "text/plain": "[StairsArtists(stairs=<matplotlib.patches.StepPatch object at 0x7f9b0c460c10>, errorbar=<ErrorbarContainer object of 3 artists>, legend_artist=<ErrorbarContainer object of 3 artists>)]"
     },
     "execution_count": 11,
     "metadata": {},
     "output_type": "execute_result"
    },
    {
     "data": {
      "text/plain": "<Figure size 432x288 with 1 Axes>",
      "image/png": "[encoded data removed]"
     },
     "metadata": {
      "needs_background": "light"
     },
     "output_type": "display_data"
    }
   ],
   "source": [
    "# fill the axes\n",
    "mom_hst = Hist(hist.axis.Regular(50, 0, 7, name=\"All particle momentums\", label=\"pz [GeV]\", underflow=False, overflow=False),)\n",
    "\n",
    "z_mom = tree['ForwardTRDHits/ForwardTRDHits.momentum.z'].array()\n",
    "mom_hst.fill(ak.flatten(z_mom))\n",
    "mom_hst.plot()"
   ],
   "metadata": {
    "collapsed": false,
    "pycharm": {
     "name": "#%%\n"
    }
   }
  },
  {
   "cell_type": "code",
   "execution_count": 12,
   "outputs": [
    {
     "data": {
      "text/plain": "[StairsArtists(stairs=<matplotlib.patches.StepPatch object at 0x7f9b0c3ff130>, errorbar=<ErrorbarContainer object of 3 artists>, legend_artist=<ErrorbarContainer object of 3 artists>)]"
     },
     "execution_count": 12,
     "metadata": {},
     "output_type": "execute_result"
    },
    {
     "data": {
      "text/plain": "<Figure size 432x288 with 1 Axes>",
      "image/png": "[encoded data removed]"
     },
     "metadata": {
      "needs_background": "light"
     },
     "output_type": "display_data"
    }
   ],
   "source": [
    "# fill the axes\n",
    "mom_hst = Hist(hist.axis.Regular(50, 0, 0.00006, name=\"All particle momentums\", label=\"pz [GeV]\", underflow=False, overflow=False),)\n",
    "\n",
    "z_mom = tree['ForwardTRDHits/ForwardTRDHits.momentum.z'].array()\n",
    "mom_hst.fill(ak.flatten(z_mom))\n",
    "mom_hst.plot()"
   ],
   "metadata": {
    "collapsed": false,
    "pycharm": {
     "name": "#%%\n"
    }
   }
  },
  {
   "cell_type": "code",
   "execution_count": 13,
   "outputs": [
    {
     "data": {
      "text/plain": "[StairsArtists(stairs=<matplotlib.patches.StepPatch object at 0x7f9b0c304790>, errorbar=<ErrorbarContainer object of 3 artists>, legend_artist=<ErrorbarContainer object of 3 artists>)]"
     },
     "execution_count": 13,
     "metadata": {},
     "output_type": "execute_result"
    },
    {
     "data": {
      "text/plain": "<Figure size 432x288 with 1 Axes>",
      "image/png": "[encoded data removed]"
     },
     "metadata": {
      "needs_background": "light"
     },
     "output_type": "display_data"
    }
   ],
   "source": [
    "# fill the axes\n",
    "mom_hst = Hist(hist.axis.Regular(50, 5.99, 6.08, name=\"All particle momentums\", label=\"pz [GeV]\", underflow=False, overflow=False),)\n",
    "\n",
    "z_mom = tree['ForwardTRDHits/ForwardTRDHits.momentum.z'].array()\n",
    "mom_hst.fill(ak.flatten(z_mom))\n",
    "mom_hst.plot()"
   ],
   "metadata": {
    "collapsed": false,
    "pycharm": {
     "name": "#%%\n"
    }
   }
  },
  {
   "cell_type": "code",
   "execution_count": 16,
   "outputs": [
    {
     "data": {
      "text/plain": "[StairsArtists(stairs=<matplotlib.patches.StepPatch object at 0x7f9b0c179e80>, errorbar=<ErrorbarContainer object of 3 artists>, legend_artist=<ErrorbarContainer object of 3 artists>)]"
     },
     "execution_count": 16,
     "metadata": {},
     "output_type": "execute_result"
    },
    {
     "data": {
      "text/plain": "<Figure size 432x288 with 1 Axes>",
      "image/png": "[encoded data removed]"
     },
     "metadata": {
      "needs_background": "light"
     },
     "output_type": "display_data"
    }
   ],
   "source": [
    "# fill the axes\n",
    "bool_mask = hit_z > 3400\n",
    "\n",
    "hit_z = hit_z[bool_mask]\n",
    "#\n",
    "#\n",
    "z_mom = tree['ForwardTRDHits/ForwardTRDHits.momentum.z'].array()\n",
    "z_mom = z_mom[bool_mask]\n",
    "\n",
    "mom_hst = Hist(hist.axis.Regular(50, 5.99, 6.08, name=\"All particle momentums\", label=\"pz [GeV]\", underflow=False, overflow=False),)\n",
    "mom_hst.fill(ak.flatten(z_mom))\n",
    "mom_hst.plot()\n"
   ],
   "metadata": {
    "collapsed": false,
    "pycharm": {
     "name": "#%%\n"
    }
   }
  },
  {
   "cell_type": "code",
   "execution_count": 15,
   "metadata": {
    "pycharm": {
     "name": "#%%\n"
    }
   },
   "outputs": [
    {
     "name": "stdout",
     "output_type": "stream",
     "text": [
      "[[False], [False], [False, False], [], ... [False, False], [False, False], [False]]\n"
     ]
    },
    {
     "ename": "KeyInFileError",
     "evalue": "not found: 'hit_x'\n\n    Available keys: 'DRICHHits', 'ffiZDCSiHits', 'BarrelTOFHits', 'TOFEndcapHits', 'B0TrackerHits', 'ffiZDCSiWHits', 'ForwardTRDHits', 'HcalBarrelHits', 'EcalBarrelHits', 'ffiZDCSiPbHits', 'mcparticles', 'mcparticles_0', 'mcparticles_1'...\n\nin file test.root\nin object /events;3",
     "output_type": "error",
     "traceback": [
      "\u001B[0;31m---------------------------------------------------------------------------\u001B[0m",
      "\u001B[0;31mKeyInFileError\u001B[0m                            Traceback (most recent call last)",
      "\u001B[0;32m/tmp/ipykernel_2325057/2852844431.py\u001B[0m in \u001B[0;36m<module>\u001B[0;34m\u001B[0m\n\u001B[1;32m      2\u001B[0m \u001B[0mprint\u001B[0m\u001B[0;34m(\u001B[0m\u001B[0mfilter_by_z\u001B[0m\u001B[0;34m)\u001B[0m\u001B[0;34m\u001B[0m\u001B[0;34m\u001B[0m\u001B[0m\n\u001B[1;32m      3\u001B[0m \u001B[0;34m\u001B[0m\u001B[0m\n\u001B[0;32m----> 4\u001B[0;31m \u001B[0mhit_x\u001B[0m \u001B[0;34m=\u001B[0m\u001B[0mtree\u001B[0m\u001B[0;34m[\u001B[0m\u001B[0;34m'hit_x'\u001B[0m\u001B[0;34m]\u001B[0m\u001B[0;34m.\u001B[0m\u001B[0marray\u001B[0m\u001B[0;34m(\u001B[0m\u001B[0mlibrary\u001B[0m\u001B[0;34m=\u001B[0m\u001B[0;34m'ak'\u001B[0m\u001B[0;34m)\u001B[0m\u001B[0;34m\u001B[0m\u001B[0;34m\u001B[0m\u001B[0m\n\u001B[0m\u001B[1;32m      5\u001B[0m \u001B[0mhit_y\u001B[0m \u001B[0;34m=\u001B[0m\u001B[0mtree\u001B[0m\u001B[0;34m[\u001B[0m\u001B[0;34m'hit_y'\u001B[0m\u001B[0;34m]\u001B[0m\u001B[0;34m.\u001B[0m\u001B[0marray\u001B[0m\u001B[0;34m(\u001B[0m\u001B[0mlibrary\u001B[0m\u001B[0;34m=\u001B[0m\u001B[0;34m'ak'\u001B[0m\u001B[0;34m)\u001B[0m\u001B[0;34m\u001B[0m\u001B[0;34m\u001B[0m\u001B[0m\n\u001B[1;32m      6\u001B[0m \u001B[0;34m\u001B[0m\u001B[0m\n",
      "\u001B[0;32m~/eic/trd_rec/venv/lib/python3.8/site-packages/uproot/behaviors/TBranch.py\u001B[0m in \u001B[0;36m__getitem__\u001B[0;34m(self, where)\u001B[0m\n\u001B[1;32m   1908\u001B[0m                 \u001B[0;32mreturn\u001B[0m \u001B[0mgot\u001B[0m\u001B[0;34m\u001B[0m\u001B[0;34m\u001B[0m\u001B[0m\n\u001B[1;32m   1909\u001B[0m             \u001B[0;32melse\u001B[0m\u001B[0;34m:\u001B[0m\u001B[0;34m\u001B[0m\u001B[0;34m\u001B[0m\u001B[0m\n\u001B[0;32m-> 1910\u001B[0;31m                 raise uproot.KeyInFileError(\n\u001B[0m\u001B[1;32m   1911\u001B[0m                     \u001B[0moriginal_where\u001B[0m\u001B[0;34m,\u001B[0m\u001B[0;34m\u001B[0m\u001B[0;34m\u001B[0m\u001B[0m\n\u001B[1;32m   1912\u001B[0m                     \u001B[0mkeys\u001B[0m\u001B[0;34m=\u001B[0m\u001B[0mself\u001B[0m\u001B[0;34m.\u001B[0m\u001B[0mkeys\u001B[0m\u001B[0;34m(\u001B[0m\u001B[0mrecursive\u001B[0m\u001B[0;34m=\u001B[0m\u001B[0mrecursive\u001B[0m\u001B[0;34m)\u001B[0m\u001B[0;34m,\u001B[0m\u001B[0;34m\u001B[0m\u001B[0;34m\u001B[0m\u001B[0m\n",
      "\u001B[0;31mKeyInFileError\u001B[0m: not found: 'hit_x'\n\n    Available keys: 'DRICHHits', 'ffiZDCSiHits', 'BarrelTOFHits', 'TOFEndcapHits', 'B0TrackerHits', 'ffiZDCSiWHits', 'ForwardTRDHits', 'HcalBarrelHits', 'EcalBarrelHits', 'ffiZDCSiPbHits', 'mcparticles', 'mcparticles_0', 'mcparticles_1'...\n\nin file test.root\nin object /events;3"
     ]
    }
   ],
   "source": [
    "filter_by_z = hit_z < -2000\n",
    "print(filter_by_z)\n",
    "\n",
    "hit_x =tree['hit_x'].array(library='ak')\n",
    "hit_y =tree['hit_y'].array(library='ak')\n",
    "\n",
    "print(ak.num(hit_x))\n",
    "\n",
    "hit_x = hit_x[filter_by_z]\n",
    "hit_y = hit_y[filter_by_z]\n",
    "print(ak.num(hit_x))"
   ]
  },
  {
   "cell_type": "code",
   "execution_count": null,
   "metadata": {
    "pycharm": {
     "name": "#%%\n"
    }
   },
   "outputs": [],
   "source": [
    "h = Hist(\n",
    "    hist.axis.Regular(50, -250, 250, name=\"X\", label=\"x [cm]\", flow=False),\n",
    "    hist.axis.Regular(50, -250, 250, name=\"Y\", label=\"y [cm]\", flow=False),\n",
    ")\n",
    "\n",
    "h.fill(ak.to_numpy(ak.flatten(hit_x/10)),\n",
    "       ak.to_numpy(ak.flatten(hit_y/10)))\n",
    "h.plot()"
   ]
  },
  {
   "cell_type": "code",
   "execution_count": null,
   "outputs": [],
   "source": [
    "# For numpy:\n",
    "events = tree.arrays(['hit_vol_name', 'hit_x', 'hit_y', 'hit_z'], library='ak')\n",
    "\n",
    "events.type\n",
    "#hit_y.type\n",
    "hit_names = events.hit_vol_name\n"
   ],
   "metadata": {
    "collapsed": false,
    "pycharm": {
     "name": "#%%\n"
    }
   }
  },
  {
   "cell_type": "code",
   "execution_count": null,
   "outputs": [],
   "source": [
    "def filter_by_detector_name(ak_array, name):\n",
    "    return ak_array[:, :, :len(name)] == name"
   ],
   "metadata": {
    "collapsed": false,
    "pycharm": {
     "name": "#%%\n"
    }
   }
  },
  {
   "cell_type": "code",
   "execution_count": null,
   "outputs": [],
   "source": [
    "mask = filter_by_detector_name(events.hit_vol_name, \"cb_VTX\")\n",
    "\n",
    "print(mask)"
   ],
   "metadata": {
    "collapsed": false,
    "pycharm": {
     "name": "#%%\n"
    }
   }
  },
  {
   "cell_type": "code",
   "execution_count": null,
   "outputs": [],
   "source": [
    "h = Hist(\n",
    "    hist.axis.Regular(50, -250, 250, name=\"X\", label=\"x [cm]\", flow=False),\n",
    "    hist.axis.Regular(50, -250, 250, name=\"Y\", label=\"y [cm]\", flow=False),\n",
    ")\n",
    "\n",
    "filtered_hits_x = events.hit_x[mask]\n",
    "filtered_hits_y = events.hit_y[mask]\n",
    "\n",
    "h.fill(ak.to_numpy(ak.flatten(filtered_hits_x/10)),\n",
    "       ak.to_numpy(ak.flatten(filtered_hits_y/10)))\n",
    "h.plot()"
   ],
   "metadata": {
    "collapsed": false,
    "pycharm": {
     "name": "#%%\n"
    }
   }
  },
  {
   "cell_type": "code",
   "execution_count": null,
   "outputs": [],
   "source": [
    "# cb_VTX\n",
    "# cb_CTD\n",
    "# cb\n",
    "# ci\n",
    "# ce\n",
    "\n",
    "# plot only for electrons\n",
    "# plot for protons\n",
    "# plot for pi-\n",
    "# to filter by particle we use hit_pdg\n",
    "# electron - 11\n",
    "# proton - 2212\n",
    "# pi- 211\n",
    "# https://pdg.lbl.gov/2007/reviews/montecarlorpp.pdf"
   ],
   "metadata": {
    "collapsed": false,
    "pycharm": {
     "name": "#%%\n"
    }
   }
  }
 ],
 "metadata": {
  "kernelspec": {
   "display_name": "Python 3",
   "language": "python",
   "name": "python3"
  },
  "language_info": {
   "codemirror_mode": {
    "name": "ipython",
    "version": 3
   },
   "file_extension": ".py",
   "mimetype": "text/x-python",
   "name": "python",
   "nbconvert_exporter": "python",
   "pygments_lexer": "ipython3",
   "version": "3.8.2"
  }
 },
 "nbformat": 4,
 "nbformat_minor": 4
}